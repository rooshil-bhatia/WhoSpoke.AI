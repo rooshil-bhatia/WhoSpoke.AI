{
  "cells": [
    {
      "cell_type": "code",
      "execution_count": null,
      "metadata": {
        "id": "yFs_bPlk12pa"
      },
      "outputs": [],
      "source": [
        "!pip install streamlit -q\n",
        "!pip install speechbrain==0.5.16\n",
        "!pip install faster_whisper\n",
        "!pip install pyannote.audio"
      ]
    },
    {
      "cell_type": "code",
      "execution_count": null,
      "metadata": {
        "id": "8eP3bg9K2tE9"
      },
      "outputs": [],
      "source": [
        "!wget -q -O - ipv4.icanhazip.com"
      ]
    },
    {
      "cell_type": "code",
      "execution_count": null,
      "metadata": {
        "id": "e9Rx8pnIMozW"
      },
      "outputs": [],
      "source": [
        "! streamlit run WhoSpokeAI.py & npx localtunnel --port 8501"
      ]
    },
    {
      "cell_type": "code",
      "execution_count": null,
      "metadata": {
        "id": "32ncUuhNA9an"
      },
      "outputs": [],
      "source": [
        "import sqlite3\n",
        "\n",
        "def create_database(database_name):\n",
        "    # Connect to SQLite database (or create it if it doesn't exist)\n",
        "    conn = sqlite3.connect(database_name)\n",
        "    cursor = conn.cursor()\n",
        "\n",
        "    # Create a table with columns \"Label\" and \"Embedding\", both serving as the primary key\n",
        "    cursor.execute('''CREATE TABLE IF NOT EXISTS embeddings\n",
        "                      (Label TEXT,\n",
        "                       Name TEXT,\n",
        "                       Embedding BLOB,\n",
        "                       PRIMARY KEY (Label, Embedding))''')\n",
        "\n",
        "    # Commit changes and close the connection\n",
        "    conn.commit()\n",
        "    conn.close()\n",
        "\n",
        "# Example usage\n",
        "database_name = \"embeddings.db\"\n",
        "create_database(database_name)\n",
        "print(f\"Database '{database_name}' created successfully.\")\n"
      ]
    },
    {
      "cell_type": "code",
      "execution_count": null,
      "metadata": {
        "id": "BBOb0E4UiUye"
      },
      "outputs": [],
      "source": []
    }
  ],
  "metadata": {
    "colab": {
      "provenance": [],
      "gpuType": "T4"
    },
    "kernelspec": {
      "display_name": "Python 3",
      "name": "python3"
    },
    "language_info": {
      "name": "python"
    },
    "accelerator": "GPU"
  },
  "nbformat": 4,
  "nbformat_minor": 0
}